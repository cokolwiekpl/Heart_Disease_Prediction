{
 "cells": [
  {
   "cell_type": "code",
   "execution_count": 9,
   "outputs": [],
   "source": [
    "import pandas as pd"
   ],
   "metadata": {
    "collapsed": false
   }
  },
  {
   "cell_type": "code",
   "execution_count": 5,
   "outputs": [],
   "source": [
    "#Data import\n",
    "df = pd.read_csv(\"data/heart_disease_health_indicators_BRFSS2015.csv\" , sep = \",\" , encoding = 'utf-8')"
   ],
   "metadata": {
    "collapsed": false
   }
  },
  {
   "cell_type": "code",
   "execution_count": 6,
   "outputs": [
    {
     "data": {
      "text/plain": "       HeartDiseaseorAttack         HighBP       HighChol      CholCheck  \\\ncount         253680.000000  253680.000000  253680.000000  253680.000000   \nmean               0.094186       0.429001       0.424121       0.962670   \nstd                0.292087       0.494934       0.494210       0.189571   \nmin                0.000000       0.000000       0.000000       0.000000   \n25%                0.000000       0.000000       0.000000       1.000000   \n50%                0.000000       0.000000       0.000000       1.000000   \n75%                0.000000       1.000000       1.000000       1.000000   \nmax                1.000000       1.000000       1.000000       1.000000   \n\n                 BMI         Smoker         Stroke       Diabetes  \\\ncount  253680.000000  253680.000000  253680.000000  253680.000000   \nmean       28.382364       0.443169       0.040571       0.296921   \nstd         6.608694       0.496761       0.197294       0.698160   \nmin        12.000000       0.000000       0.000000       0.000000   \n25%        24.000000       0.000000       0.000000       0.000000   \n50%        27.000000       0.000000       0.000000       0.000000   \n75%        31.000000       1.000000       0.000000       0.000000   \nmax        98.000000       1.000000       1.000000       2.000000   \n\n        PhysActivity         Fruits  ...  AnyHealthcare    NoDocbcCost  \\\ncount  253680.000000  253680.000000  ...  253680.000000  253680.000000   \nmean        0.756544       0.634256  ...       0.951053       0.084177   \nstd         0.429169       0.481639  ...       0.215759       0.277654   \nmin         0.000000       0.000000  ...       0.000000       0.000000   \n25%         1.000000       0.000000  ...       1.000000       0.000000   \n50%         1.000000       1.000000  ...       1.000000       0.000000   \n75%         1.000000       1.000000  ...       1.000000       0.000000   \nmax         1.000000       1.000000  ...       1.000000       1.000000   \n\n             GenHlth       MentHlth       PhysHlth       DiffWalk  \\\ncount  253680.000000  253680.000000  253680.000000  253680.000000   \nmean        2.511392       3.184772       4.242081       0.168224   \nstd         1.068477       7.412847       8.717951       0.374066   \nmin         1.000000       0.000000       0.000000       0.000000   \n25%         2.000000       0.000000       0.000000       0.000000   \n50%         2.000000       0.000000       0.000000       0.000000   \n75%         3.000000       2.000000       3.000000       0.000000   \nmax         5.000000      30.000000      30.000000       1.000000   \n\n                 Sex            Age      Education         Income  \ncount  253680.000000  253680.000000  253680.000000  253680.000000  \nmean        0.440342       8.032119       5.050434       6.053875  \nstd         0.496429       3.054220       0.985774       2.071148  \nmin         0.000000       1.000000       1.000000       1.000000  \n25%         0.000000       6.000000       4.000000       5.000000  \n50%         0.000000       8.000000       5.000000       7.000000  \n75%         1.000000      10.000000       6.000000       8.000000  \nmax         1.000000      13.000000       6.000000       8.000000  \n\n[8 rows x 22 columns]",
      "text/html": "<div>\n<style scoped>\n    .dataframe tbody tr th:only-of-type {\n        vertical-align: middle;\n    }\n\n    .dataframe tbody tr th {\n        vertical-align: top;\n    }\n\n    .dataframe thead th {\n        text-align: right;\n    }\n</style>\n<table border=\"1\" class=\"dataframe\">\n  <thead>\n    <tr style=\"text-align: right;\">\n      <th></th>\n      <th>HeartDiseaseorAttack</th>\n      <th>HighBP</th>\n      <th>HighChol</th>\n      <th>CholCheck</th>\n      <th>BMI</th>\n      <th>Smoker</th>\n      <th>Stroke</th>\n      <th>Diabetes</th>\n      <th>PhysActivity</th>\n      <th>Fruits</th>\n      <th>...</th>\n      <th>AnyHealthcare</th>\n      <th>NoDocbcCost</th>\n      <th>GenHlth</th>\n      <th>MentHlth</th>\n      <th>PhysHlth</th>\n      <th>DiffWalk</th>\n      <th>Sex</th>\n      <th>Age</th>\n      <th>Education</th>\n      <th>Income</th>\n    </tr>\n  </thead>\n  <tbody>\n    <tr>\n      <th>count</th>\n      <td>253680.000000</td>\n      <td>253680.000000</td>\n      <td>253680.000000</td>\n      <td>253680.000000</td>\n      <td>253680.000000</td>\n      <td>253680.000000</td>\n      <td>253680.000000</td>\n      <td>253680.000000</td>\n      <td>253680.000000</td>\n      <td>253680.000000</td>\n      <td>...</td>\n      <td>253680.000000</td>\n      <td>253680.000000</td>\n      <td>253680.000000</td>\n      <td>253680.000000</td>\n      <td>253680.000000</td>\n      <td>253680.000000</td>\n      <td>253680.000000</td>\n      <td>253680.000000</td>\n      <td>253680.000000</td>\n      <td>253680.000000</td>\n    </tr>\n    <tr>\n      <th>mean</th>\n      <td>0.094186</td>\n      <td>0.429001</td>\n      <td>0.424121</td>\n      <td>0.962670</td>\n      <td>28.382364</td>\n      <td>0.443169</td>\n      <td>0.040571</td>\n      <td>0.296921</td>\n      <td>0.756544</td>\n      <td>0.634256</td>\n      <td>...</td>\n      <td>0.951053</td>\n      <td>0.084177</td>\n      <td>2.511392</td>\n      <td>3.184772</td>\n      <td>4.242081</td>\n      <td>0.168224</td>\n      <td>0.440342</td>\n      <td>8.032119</td>\n      <td>5.050434</td>\n      <td>6.053875</td>\n    </tr>\n    <tr>\n      <th>std</th>\n      <td>0.292087</td>\n      <td>0.494934</td>\n      <td>0.494210</td>\n      <td>0.189571</td>\n      <td>6.608694</td>\n      <td>0.496761</td>\n      <td>0.197294</td>\n      <td>0.698160</td>\n      <td>0.429169</td>\n      <td>0.481639</td>\n      <td>...</td>\n      <td>0.215759</td>\n      <td>0.277654</td>\n      <td>1.068477</td>\n      <td>7.412847</td>\n      <td>8.717951</td>\n      <td>0.374066</td>\n      <td>0.496429</td>\n      <td>3.054220</td>\n      <td>0.985774</td>\n      <td>2.071148</td>\n    </tr>\n    <tr>\n      <th>min</th>\n      <td>0.000000</td>\n      <td>0.000000</td>\n      <td>0.000000</td>\n      <td>0.000000</td>\n      <td>12.000000</td>\n      <td>0.000000</td>\n      <td>0.000000</td>\n      <td>0.000000</td>\n      <td>0.000000</td>\n      <td>0.000000</td>\n      <td>...</td>\n      <td>0.000000</td>\n      <td>0.000000</td>\n      <td>1.000000</td>\n      <td>0.000000</td>\n      <td>0.000000</td>\n      <td>0.000000</td>\n      <td>0.000000</td>\n      <td>1.000000</td>\n      <td>1.000000</td>\n      <td>1.000000</td>\n    </tr>\n    <tr>\n      <th>25%</th>\n      <td>0.000000</td>\n      <td>0.000000</td>\n      <td>0.000000</td>\n      <td>1.000000</td>\n      <td>24.000000</td>\n      <td>0.000000</td>\n      <td>0.000000</td>\n      <td>0.000000</td>\n      <td>1.000000</td>\n      <td>0.000000</td>\n      <td>...</td>\n      <td>1.000000</td>\n      <td>0.000000</td>\n      <td>2.000000</td>\n      <td>0.000000</td>\n      <td>0.000000</td>\n      <td>0.000000</td>\n      <td>0.000000</td>\n      <td>6.000000</td>\n      <td>4.000000</td>\n      <td>5.000000</td>\n    </tr>\n    <tr>\n      <th>50%</th>\n      <td>0.000000</td>\n      <td>0.000000</td>\n      <td>0.000000</td>\n      <td>1.000000</td>\n      <td>27.000000</td>\n      <td>0.000000</td>\n      <td>0.000000</td>\n      <td>0.000000</td>\n      <td>1.000000</td>\n      <td>1.000000</td>\n      <td>...</td>\n      <td>1.000000</td>\n      <td>0.000000</td>\n      <td>2.000000</td>\n      <td>0.000000</td>\n      <td>0.000000</td>\n      <td>0.000000</td>\n      <td>0.000000</td>\n      <td>8.000000</td>\n      <td>5.000000</td>\n      <td>7.000000</td>\n    </tr>\n    <tr>\n      <th>75%</th>\n      <td>0.000000</td>\n      <td>1.000000</td>\n      <td>1.000000</td>\n      <td>1.000000</td>\n      <td>31.000000</td>\n      <td>1.000000</td>\n      <td>0.000000</td>\n      <td>0.000000</td>\n      <td>1.000000</td>\n      <td>1.000000</td>\n      <td>...</td>\n      <td>1.000000</td>\n      <td>0.000000</td>\n      <td>3.000000</td>\n      <td>2.000000</td>\n      <td>3.000000</td>\n      <td>0.000000</td>\n      <td>1.000000</td>\n      <td>10.000000</td>\n      <td>6.000000</td>\n      <td>8.000000</td>\n    </tr>\n    <tr>\n      <th>max</th>\n      <td>1.000000</td>\n      <td>1.000000</td>\n      <td>1.000000</td>\n      <td>1.000000</td>\n      <td>98.000000</td>\n      <td>1.000000</td>\n      <td>1.000000</td>\n      <td>2.000000</td>\n      <td>1.000000</td>\n      <td>1.000000</td>\n      <td>...</td>\n      <td>1.000000</td>\n      <td>1.000000</td>\n      <td>5.000000</td>\n      <td>30.000000</td>\n      <td>30.000000</td>\n      <td>1.000000</td>\n      <td>1.000000</td>\n      <td>13.000000</td>\n      <td>6.000000</td>\n      <td>8.000000</td>\n    </tr>\n  </tbody>\n</table>\n<p>8 rows × 22 columns</p>\n</div>"
     },
     "execution_count": 6,
     "metadata": {},
     "output_type": "execute_result"
    }
   ],
   "source": [
    "df.describe()"
   ],
   "metadata": {
    "collapsed": false
   }
  },
  {
   "cell_type": "code",
   "execution_count": 7,
   "outputs": [
    {
     "data": {
      "text/plain": "   HeartDiseaseorAttack  HighBP  HighChol  CholCheck   BMI  Smoker  Stroke  \\\n0                   0.0     1.0       1.0        1.0  40.0     1.0     0.0   \n1                   0.0     0.0       0.0        0.0  25.0     1.0     0.0   \n2                   0.0     1.0       1.0        1.0  28.0     0.0     0.0   \n3                   0.0     1.0       0.0        1.0  27.0     0.0     0.0   \n4                   0.0     1.0       1.0        1.0  24.0     0.0     0.0   \n\n   Diabetes  PhysActivity  Fruits  ...  AnyHealthcare  NoDocbcCost  GenHlth  \\\n0       0.0           0.0     0.0  ...            1.0          0.0      5.0   \n1       0.0           1.0     0.0  ...            0.0          1.0      3.0   \n2       0.0           0.0     1.0  ...            1.0          1.0      5.0   \n3       0.0           1.0     1.0  ...            1.0          0.0      2.0   \n4       0.0           1.0     1.0  ...            1.0          0.0      2.0   \n\n   MentHlth  PhysHlth  DiffWalk  Sex   Age  Education  Income  \n0      18.0      15.0       1.0  0.0   9.0        4.0     3.0  \n1       0.0       0.0       0.0  0.0   7.0        6.0     1.0  \n2      30.0      30.0       1.0  0.0   9.0        4.0     8.0  \n3       0.0       0.0       0.0  0.0  11.0        3.0     6.0  \n4       3.0       0.0       0.0  0.0  11.0        5.0     4.0  \n\n[5 rows x 22 columns]",
      "text/html": "<div>\n<style scoped>\n    .dataframe tbody tr th:only-of-type {\n        vertical-align: middle;\n    }\n\n    .dataframe tbody tr th {\n        vertical-align: top;\n    }\n\n    .dataframe thead th {\n        text-align: right;\n    }\n</style>\n<table border=\"1\" class=\"dataframe\">\n  <thead>\n    <tr style=\"text-align: right;\">\n      <th></th>\n      <th>HeartDiseaseorAttack</th>\n      <th>HighBP</th>\n      <th>HighChol</th>\n      <th>CholCheck</th>\n      <th>BMI</th>\n      <th>Smoker</th>\n      <th>Stroke</th>\n      <th>Diabetes</th>\n      <th>PhysActivity</th>\n      <th>Fruits</th>\n      <th>...</th>\n      <th>AnyHealthcare</th>\n      <th>NoDocbcCost</th>\n      <th>GenHlth</th>\n      <th>MentHlth</th>\n      <th>PhysHlth</th>\n      <th>DiffWalk</th>\n      <th>Sex</th>\n      <th>Age</th>\n      <th>Education</th>\n      <th>Income</th>\n    </tr>\n  </thead>\n  <tbody>\n    <tr>\n      <th>0</th>\n      <td>0.0</td>\n      <td>1.0</td>\n      <td>1.0</td>\n      <td>1.0</td>\n      <td>40.0</td>\n      <td>1.0</td>\n      <td>0.0</td>\n      <td>0.0</td>\n      <td>0.0</td>\n      <td>0.0</td>\n      <td>...</td>\n      <td>1.0</td>\n      <td>0.0</td>\n      <td>5.0</td>\n      <td>18.0</td>\n      <td>15.0</td>\n      <td>1.0</td>\n      <td>0.0</td>\n      <td>9.0</td>\n      <td>4.0</td>\n      <td>3.0</td>\n    </tr>\n    <tr>\n      <th>1</th>\n      <td>0.0</td>\n      <td>0.0</td>\n      <td>0.0</td>\n      <td>0.0</td>\n      <td>25.0</td>\n      <td>1.0</td>\n      <td>0.0</td>\n      <td>0.0</td>\n      <td>1.0</td>\n      <td>0.0</td>\n      <td>...</td>\n      <td>0.0</td>\n      <td>1.0</td>\n      <td>3.0</td>\n      <td>0.0</td>\n      <td>0.0</td>\n      <td>0.0</td>\n      <td>0.0</td>\n      <td>7.0</td>\n      <td>6.0</td>\n      <td>1.0</td>\n    </tr>\n    <tr>\n      <th>2</th>\n      <td>0.0</td>\n      <td>1.0</td>\n      <td>1.0</td>\n      <td>1.0</td>\n      <td>28.0</td>\n      <td>0.0</td>\n      <td>0.0</td>\n      <td>0.0</td>\n      <td>0.0</td>\n      <td>1.0</td>\n      <td>...</td>\n      <td>1.0</td>\n      <td>1.0</td>\n      <td>5.0</td>\n      <td>30.0</td>\n      <td>30.0</td>\n      <td>1.0</td>\n      <td>0.0</td>\n      <td>9.0</td>\n      <td>4.0</td>\n      <td>8.0</td>\n    </tr>\n    <tr>\n      <th>3</th>\n      <td>0.0</td>\n      <td>1.0</td>\n      <td>0.0</td>\n      <td>1.0</td>\n      <td>27.0</td>\n      <td>0.0</td>\n      <td>0.0</td>\n      <td>0.0</td>\n      <td>1.0</td>\n      <td>1.0</td>\n      <td>...</td>\n      <td>1.0</td>\n      <td>0.0</td>\n      <td>2.0</td>\n      <td>0.0</td>\n      <td>0.0</td>\n      <td>0.0</td>\n      <td>0.0</td>\n      <td>11.0</td>\n      <td>3.0</td>\n      <td>6.0</td>\n    </tr>\n    <tr>\n      <th>4</th>\n      <td>0.0</td>\n      <td>1.0</td>\n      <td>1.0</td>\n      <td>1.0</td>\n      <td>24.0</td>\n      <td>0.0</td>\n      <td>0.0</td>\n      <td>0.0</td>\n      <td>1.0</td>\n      <td>1.0</td>\n      <td>...</td>\n      <td>1.0</td>\n      <td>0.0</td>\n      <td>2.0</td>\n      <td>3.0</td>\n      <td>0.0</td>\n      <td>0.0</td>\n      <td>0.0</td>\n      <td>11.0</td>\n      <td>5.0</td>\n      <td>4.0</td>\n    </tr>\n  </tbody>\n</table>\n<p>5 rows × 22 columns</p>\n</div>"
     },
     "execution_count": 7,
     "metadata": {},
     "output_type": "execute_result"
    }
   ],
   "source": [
    "df.head()"
   ],
   "metadata": {
    "collapsed": false
   }
  },
  {
   "cell_type": "code",
   "execution_count": 8,
   "outputs": [
    {
     "name": "stdout",
     "output_type": "stream",
     "text": [
      "HeartDiseaseorAttack\n",
      "HighBP\n",
      "HighChol\n",
      "CholCheck\n",
      "BMI\n",
      "Smoker\n",
      "Stroke\n",
      "Diabetes\n",
      "PhysActivity\n",
      "Fruits\n",
      "Veggies\n",
      "HvyAlcoholConsump\n",
      "AnyHealthcare\n",
      "NoDocbcCost\n",
      "GenHlth\n",
      "MentHlth\n",
      "PhysHlth\n",
      "DiffWalk\n",
      "Sex\n",
      "Age\n",
      "Education\n",
      "Income\n"
     ]
    }
   ],
   "source": [
    "for column in df.columns:\n",
    "    print(column)"
   ],
   "metadata": {
    "collapsed": false
   }
  }
 ],
 "metadata": {
  "kernelspec": {
   "display_name": "Python 3",
   "language": "python",
   "name": "python3"
  },
  "language_info": {
   "codemirror_mode": {
    "name": "ipython",
    "version": 2
   },
   "file_extension": ".py",
   "mimetype": "text/x-python",
   "name": "python",
   "nbconvert_exporter": "python",
   "pygments_lexer": "ipython2",
   "version": "2.7.6"
  }
 },
 "nbformat": 4,
 "nbformat_minor": 0
}
